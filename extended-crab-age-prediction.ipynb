{
 "cells": [
  {
   "cell_type": "markdown",
   "metadata": {},
   "source": [
    "# Extended Crab Age Prediction"
   ]
  },
  {
   "cell_type": "markdown",
   "metadata": {},
   "source": [
    "Import libraries"
   ]
  },
  {
   "cell_type": "code",
   "execution_count": 155,
   "metadata": {
    "execution": {
     "iopub.execute_input": "2023-06-21T06:18:12.622619Z",
     "iopub.status.busy": "2023-06-21T06:18:12.622241Z",
     "iopub.status.idle": "2023-06-21T06:18:14.184227Z",
     "shell.execute_reply": "2023-06-21T06:18:14.182033Z",
     "shell.execute_reply.started": "2023-06-21T06:18:12.622589Z"
    }
   },
   "outputs": [],
   "source": [
    "import pandas as pd\n",
    "import numpy as np\n",
    "import os\n",
    "import matplotlib.pyplot as plt\n",
    "import seaborn as sns"
   ]
  },
  {
   "cell_type": "markdown",
   "metadata": {},
   "source": [
    "Read files"
   ]
  },
  {
   "cell_type": "code",
   "execution_count": 156,
   "metadata": {
    "execution": {
     "iopub.execute_input": "2023-06-21T06:18:14.198602Z",
     "iopub.status.busy": "2023-06-21T06:18:14.197837Z",
     "iopub.status.idle": "2023-06-21T06:18:14.574963Z",
     "shell.execute_reply": "2023-06-21T06:18:14.573706Z",
     "shell.execute_reply.started": "2023-06-21T06:18:14.198552Z"
    }
   },
   "outputs": [],
   "source": [
    "train = pd.read_csv('train.csv')\n",
    "test = pd.read_csv('test.csv')\n",
    "submission = pd.read_csv('sample_submission.csv')"
   ]
  },
  {
   "cell_type": "code",
   "execution_count": 157,
   "metadata": {
    "execution": {
     "iopub.execute_input": "2023-06-21T06:18:14.579518Z",
     "iopub.status.busy": "2023-06-21T06:18:14.578655Z",
     "iopub.status.idle": "2023-06-21T06:18:14.626339Z",
     "shell.execute_reply": "2023-06-21T06:18:14.624970Z",
     "shell.execute_reply.started": "2023-06-21T06:18:14.579474Z"
    }
   },
   "outputs": [
    {
     "data": {
      "text/html": [
       "<div>\n",
       "<style scoped>\n",
       "    .dataframe tbody tr th:only-of-type {\n",
       "        vertical-align: middle;\n",
       "    }\n",
       "\n",
       "    .dataframe tbody tr th {\n",
       "        vertical-align: top;\n",
       "    }\n",
       "\n",
       "    .dataframe thead th {\n",
       "        text-align: right;\n",
       "    }\n",
       "</style>\n",
       "<table border=\"1\" class=\"dataframe\">\n",
       "  <thead>\n",
       "    <tr style=\"text-align: right;\">\n",
       "      <th></th>\n",
       "      <th>id</th>\n",
       "      <th>Sex</th>\n",
       "      <th>Length</th>\n",
       "      <th>Diameter</th>\n",
       "      <th>Height</th>\n",
       "      <th>Weight</th>\n",
       "      <th>Shucked Weight</th>\n",
       "      <th>Viscera Weight</th>\n",
       "      <th>Shell Weight</th>\n",
       "      <th>Age</th>\n",
       "    </tr>\n",
       "  </thead>\n",
       "  <tbody>\n",
       "    <tr>\n",
       "      <th>0</th>\n",
       "      <td>0</td>\n",
       "      <td>I</td>\n",
       "      <td>1.5250</td>\n",
       "      <td>1.1750</td>\n",
       "      <td>0.3750</td>\n",
       "      <td>28.973189</td>\n",
       "      <td>12.728926</td>\n",
       "      <td>6.647958</td>\n",
       "      <td>8.348928</td>\n",
       "      <td>9</td>\n",
       "    </tr>\n",
       "    <tr>\n",
       "      <th>1</th>\n",
       "      <td>1</td>\n",
       "      <td>I</td>\n",
       "      <td>1.1000</td>\n",
       "      <td>0.8250</td>\n",
       "      <td>0.2750</td>\n",
       "      <td>10.418441</td>\n",
       "      <td>4.521745</td>\n",
       "      <td>2.324659</td>\n",
       "      <td>3.401940</td>\n",
       "      <td>8</td>\n",
       "    </tr>\n",
       "    <tr>\n",
       "      <th>2</th>\n",
       "      <td>2</td>\n",
       "      <td>M</td>\n",
       "      <td>1.3875</td>\n",
       "      <td>1.1125</td>\n",
       "      <td>0.3750</td>\n",
       "      <td>24.777463</td>\n",
       "      <td>11.339800</td>\n",
       "      <td>5.556502</td>\n",
       "      <td>6.662133</td>\n",
       "      <td>9</td>\n",
       "    </tr>\n",
       "    <tr>\n",
       "      <th>3</th>\n",
       "      <td>3</td>\n",
       "      <td>F</td>\n",
       "      <td>1.7000</td>\n",
       "      <td>1.4125</td>\n",
       "      <td>0.5000</td>\n",
       "      <td>50.660556</td>\n",
       "      <td>20.354941</td>\n",
       "      <td>10.991839</td>\n",
       "      <td>14.996885</td>\n",
       "      <td>11</td>\n",
       "    </tr>\n",
       "    <tr>\n",
       "      <th>4</th>\n",
       "      <td>4</td>\n",
       "      <td>I</td>\n",
       "      <td>1.2500</td>\n",
       "      <td>1.0125</td>\n",
       "      <td>0.3375</td>\n",
       "      <td>23.289114</td>\n",
       "      <td>11.977664</td>\n",
       "      <td>4.507570</td>\n",
       "      <td>5.953395</td>\n",
       "      <td>8</td>\n",
       "    </tr>\n",
       "    <tr>\n",
       "      <th>...</th>\n",
       "      <td>...</td>\n",
       "      <td>...</td>\n",
       "      <td>...</td>\n",
       "      <td>...</td>\n",
       "      <td>...</td>\n",
       "      <td>...</td>\n",
       "      <td>...</td>\n",
       "      <td>...</td>\n",
       "      <td>...</td>\n",
       "      <td>...</td>\n",
       "    </tr>\n",
       "    <tr>\n",
       "      <th>49994</th>\n",
       "      <td>49994</td>\n",
       "      <td>I</td>\n",
       "      <td>0.9250</td>\n",
       "      <td>0.7000</td>\n",
       "      <td>0.2375</td>\n",
       "      <td>5.542327</td>\n",
       "      <td>2.282135</td>\n",
       "      <td>1.644271</td>\n",
       "      <td>1.984465</td>\n",
       "      <td>6</td>\n",
       "    </tr>\n",
       "    <tr>\n",
       "      <th>49995</th>\n",
       "      <td>49995</td>\n",
       "      <td>M</td>\n",
       "      <td>1.5750</td>\n",
       "      <td>1.2375</td>\n",
       "      <td>0.3875</td>\n",
       "      <td>28.462898</td>\n",
       "      <td>12.941547</td>\n",
       "      <td>6.265239</td>\n",
       "      <td>8.504850</td>\n",
       "      <td>10</td>\n",
       "    </tr>\n",
       "    <tr>\n",
       "      <th>49996</th>\n",
       "      <td>49996</td>\n",
       "      <td>M</td>\n",
       "      <td>1.4750</td>\n",
       "      <td>1.1750</td>\n",
       "      <td>0.3875</td>\n",
       "      <td>29.738626</td>\n",
       "      <td>10.021548</td>\n",
       "      <td>6.747181</td>\n",
       "      <td>8.930093</td>\n",
       "      <td>15</td>\n",
       "    </tr>\n",
       "    <tr>\n",
       "      <th>49997</th>\n",
       "      <td>49997</td>\n",
       "      <td>F</td>\n",
       "      <td>1.2875</td>\n",
       "      <td>1.0000</td>\n",
       "      <td>0.3125</td>\n",
       "      <td>21.970862</td>\n",
       "      <td>9.525432</td>\n",
       "      <td>5.712424</td>\n",
       "      <td>5.528153</td>\n",
       "      <td>8</td>\n",
       "    </tr>\n",
       "    <tr>\n",
       "      <th>49998</th>\n",
       "      <td>49998</td>\n",
       "      <td>I</td>\n",
       "      <td>1.2250</td>\n",
       "      <td>0.9625</td>\n",
       "      <td>0.3125</td>\n",
       "      <td>15.393778</td>\n",
       "      <td>6.832230</td>\n",
       "      <td>2.919999</td>\n",
       "      <td>4.252425</td>\n",
       "      <td>8</td>\n",
       "    </tr>\n",
       "  </tbody>\n",
       "</table>\n",
       "<p>49999 rows × 10 columns</p>\n",
       "</div>"
      ],
      "text/plain": [
       "          id Sex  Length  Diameter  Height     Weight  Shucked Weight   \n",
       "0          0   I  1.5250    1.1750  0.3750  28.973189       12.728926  \\\n",
       "1          1   I  1.1000    0.8250  0.2750  10.418441        4.521745   \n",
       "2          2   M  1.3875    1.1125  0.3750  24.777463       11.339800   \n",
       "3          3   F  1.7000    1.4125  0.5000  50.660556       20.354941   \n",
       "4          4   I  1.2500    1.0125  0.3375  23.289114       11.977664   \n",
       "...      ...  ..     ...       ...     ...        ...             ...   \n",
       "49994  49994   I  0.9250    0.7000  0.2375   5.542327        2.282135   \n",
       "49995  49995   M  1.5750    1.2375  0.3875  28.462898       12.941547   \n",
       "49996  49996   M  1.4750    1.1750  0.3875  29.738626       10.021548   \n",
       "49997  49997   F  1.2875    1.0000  0.3125  21.970862        9.525432   \n",
       "49998  49998   I  1.2250    0.9625  0.3125  15.393778        6.832230   \n",
       "\n",
       "       Viscera Weight  Shell Weight  Age  \n",
       "0            6.647958      8.348928    9  \n",
       "1            2.324659      3.401940    8  \n",
       "2            5.556502      6.662133    9  \n",
       "3           10.991839     14.996885   11  \n",
       "4            4.507570      5.953395    8  \n",
       "...               ...           ...  ...  \n",
       "49994        1.644271      1.984465    6  \n",
       "49995        6.265239      8.504850   10  \n",
       "49996        6.747181      8.930093   15  \n",
       "49997        5.712424      5.528153    8  \n",
       "49998        2.919999      4.252425    8  \n",
       "\n",
       "[49999 rows x 10 columns]"
      ]
     },
     "execution_count": 157,
     "metadata": {},
     "output_type": "execute_result"
    }
   ],
   "source": [
    "train"
   ]
  },
  {
   "cell_type": "code",
   "execution_count": 158,
   "metadata": {
    "execution": {
     "iopub.execute_input": "2023-06-21T06:18:14.629401Z",
     "iopub.status.busy": "2023-06-21T06:18:14.628237Z",
     "iopub.status.idle": "2023-06-21T06:18:14.676123Z",
     "shell.execute_reply": "2023-06-21T06:18:14.674780Z",
     "shell.execute_reply.started": "2023-06-21T06:18:14.629356Z"
    }
   },
   "outputs": [
    {
     "name": "stdout",
     "output_type": "stream",
     "text": [
      "<class 'pandas.core.frame.DataFrame'>\n",
      "RangeIndex: 49999 entries, 0 to 49998\n",
      "Data columns (total 10 columns):\n",
      " #   Column          Non-Null Count  Dtype  \n",
      "---  ------          --------------  -----  \n",
      " 0   id              49999 non-null  int64  \n",
      " 1   Sex             49999 non-null  object \n",
      " 2   Length          49999 non-null  float64\n",
      " 3   Diameter        49999 non-null  float64\n",
      " 4   Height          49999 non-null  float64\n",
      " 5   Weight          49999 non-null  float64\n",
      " 6   Shucked Weight  49999 non-null  float64\n",
      " 7   Viscera Weight  49999 non-null  float64\n",
      " 8   Shell Weight    49999 non-null  float64\n",
      " 9   Age             49999 non-null  int64  \n",
      "dtypes: float64(7), int64(2), object(1)\n",
      "memory usage: 3.8+ MB\n"
     ]
    }
   ],
   "source": [
    "train.info()"
   ]
  },
  {
   "cell_type": "code",
   "execution_count": 159,
   "metadata": {
    "execution": {
     "iopub.execute_input": "2023-06-21T06:18:14.678314Z",
     "iopub.status.busy": "2023-06-21T06:18:14.677872Z",
     "iopub.status.idle": "2023-06-21T06:18:14.713235Z",
     "shell.execute_reply": "2023-06-21T06:18:14.711826Z",
     "shell.execute_reply.started": "2023-06-21T06:18:14.678273Z"
    }
   },
   "outputs": [
    {
     "data": {
      "text/plain": [
       "id                0\n",
       "Sex               0\n",
       "Length            0\n",
       "Diameter          0\n",
       "Height            0\n",
       "Weight            0\n",
       "Shucked Weight    0\n",
       "Viscera Weight    0\n",
       "Shell Weight      0\n",
       "Age               0\n",
       "dtype: int64"
      ]
     },
     "execution_count": 159,
     "metadata": {},
     "output_type": "execute_result"
    }
   ],
   "source": [
    "train.isna().sum()"
   ]
  },
  {
   "cell_type": "code",
   "execution_count": 160,
   "metadata": {
    "execution": {
     "iopub.execute_input": "2023-06-21T06:18:14.715947Z",
     "iopub.status.busy": "2023-06-21T06:18:14.715593Z",
     "iopub.status.idle": "2023-06-21T06:18:14.737932Z",
     "shell.execute_reply": "2023-06-21T06:18:14.736785Z",
     "shell.execute_reply.started": "2023-06-21T06:18:14.715918Z"
    }
   },
   "outputs": [
    {
     "data": {
      "text/html": [
       "<div>\n",
       "<style scoped>\n",
       "    .dataframe tbody tr th:only-of-type {\n",
       "        vertical-align: middle;\n",
       "    }\n",
       "\n",
       "    .dataframe tbody tr th {\n",
       "        vertical-align: top;\n",
       "    }\n",
       "\n",
       "    .dataframe thead th {\n",
       "        text-align: right;\n",
       "    }\n",
       "</style>\n",
       "<table border=\"1\" class=\"dataframe\">\n",
       "  <thead>\n",
       "    <tr style=\"text-align: right;\">\n",
       "      <th></th>\n",
       "      <th>id</th>\n",
       "      <th>Sex</th>\n",
       "      <th>Length</th>\n",
       "      <th>Diameter</th>\n",
       "      <th>Height</th>\n",
       "      <th>Weight</th>\n",
       "      <th>Shucked Weight</th>\n",
       "      <th>Viscera Weight</th>\n",
       "      <th>Shell Weight</th>\n",
       "    </tr>\n",
       "  </thead>\n",
       "  <tbody>\n",
       "    <tr>\n",
       "      <th>0</th>\n",
       "      <td>74051</td>\n",
       "      <td>I</td>\n",
       "      <td>1.0500</td>\n",
       "      <td>0.7625</td>\n",
       "      <td>0.2750</td>\n",
       "      <td>8.618248</td>\n",
       "      <td>3.657085</td>\n",
       "      <td>1.729319</td>\n",
       "      <td>2.721552</td>\n",
       "    </tr>\n",
       "    <tr>\n",
       "      <th>1</th>\n",
       "      <td>74052</td>\n",
       "      <td>I</td>\n",
       "      <td>1.1625</td>\n",
       "      <td>0.8875</td>\n",
       "      <td>0.2750</td>\n",
       "      <td>15.507176</td>\n",
       "      <td>7.030676</td>\n",
       "      <td>3.246018</td>\n",
       "      <td>3.968930</td>\n",
       "    </tr>\n",
       "    <tr>\n",
       "      <th>2</th>\n",
       "      <td>74053</td>\n",
       "      <td>F</td>\n",
       "      <td>1.2875</td>\n",
       "      <td>0.9875</td>\n",
       "      <td>0.3250</td>\n",
       "      <td>14.571643</td>\n",
       "      <td>5.556502</td>\n",
       "      <td>3.883882</td>\n",
       "      <td>4.819415</td>\n",
       "    </tr>\n",
       "    <tr>\n",
       "      <th>3</th>\n",
       "      <td>74054</td>\n",
       "      <td>F</td>\n",
       "      <td>1.5500</td>\n",
       "      <td>0.9875</td>\n",
       "      <td>0.3875</td>\n",
       "      <td>28.377849</td>\n",
       "      <td>13.380964</td>\n",
       "      <td>6.548735</td>\n",
       "      <td>7.030676</td>\n",
       "    </tr>\n",
       "    <tr>\n",
       "      <th>4</th>\n",
       "      <td>74055</td>\n",
       "      <td>I</td>\n",
       "      <td>1.1125</td>\n",
       "      <td>0.8500</td>\n",
       "      <td>0.2625</td>\n",
       "      <td>11.765042</td>\n",
       "      <td>5.528153</td>\n",
       "      <td>2.466407</td>\n",
       "      <td>3.331066</td>\n",
       "    </tr>\n",
       "    <tr>\n",
       "      <th>...</th>\n",
       "      <td>...</td>\n",
       "      <td>...</td>\n",
       "      <td>...</td>\n",
       "      <td>...</td>\n",
       "      <td>...</td>\n",
       "      <td>...</td>\n",
       "      <td>...</td>\n",
       "      <td>...</td>\n",
       "      <td>...</td>\n",
       "    </tr>\n",
       "    <tr>\n",
       "      <th>29994</th>\n",
       "      <td>104045</td>\n",
       "      <td>I</td>\n",
       "      <td>0.9000</td>\n",
       "      <td>0.6750</td>\n",
       "      <td>0.2250</td>\n",
       "      <td>5.641551</td>\n",
       "      <td>2.523105</td>\n",
       "      <td>0.992232</td>\n",
       "      <td>1.700970</td>\n",
       "    </tr>\n",
       "    <tr>\n",
       "      <th>29995</th>\n",
       "      <td>104046</td>\n",
       "      <td>F</td>\n",
       "      <td>1.2875</td>\n",
       "      <td>1.0000</td>\n",
       "      <td>0.3500</td>\n",
       "      <td>19.745427</td>\n",
       "      <td>9.071840</td>\n",
       "      <td>3.557862</td>\n",
       "      <td>4.961163</td>\n",
       "    </tr>\n",
       "    <tr>\n",
       "      <th>29996</th>\n",
       "      <td>104047</td>\n",
       "      <td>F</td>\n",
       "      <td>1.5750</td>\n",
       "      <td>1.1750</td>\n",
       "      <td>0.3875</td>\n",
       "      <td>32.105809</td>\n",
       "      <td>16.697855</td>\n",
       "      <td>5.981744</td>\n",
       "      <td>8.136306</td>\n",
       "    </tr>\n",
       "    <tr>\n",
       "      <th>29997</th>\n",
       "      <td>104048</td>\n",
       "      <td>F</td>\n",
       "      <td>1.4625</td>\n",
       "      <td>1.1250</td>\n",
       "      <td>0.3750</td>\n",
       "      <td>27.895908</td>\n",
       "      <td>11.453198</td>\n",
       "      <td>5.584852</td>\n",
       "      <td>7.229122</td>\n",
       "    </tr>\n",
       "    <tr>\n",
       "      <th>29998</th>\n",
       "      <td>104049</td>\n",
       "      <td>I</td>\n",
       "      <td>1.4375</td>\n",
       "      <td>1.1125</td>\n",
       "      <td>0.3875</td>\n",
       "      <td>23.246590</td>\n",
       "      <td>10.475140</td>\n",
       "      <td>6.123492</td>\n",
       "      <td>7.937860</td>\n",
       "    </tr>\n",
       "  </tbody>\n",
       "</table>\n",
       "<p>29999 rows × 9 columns</p>\n",
       "</div>"
      ],
      "text/plain": [
       "           id Sex  Length  Diameter  Height     Weight  Shucked Weight   \n",
       "0       74051   I  1.0500    0.7625  0.2750   8.618248        3.657085  \\\n",
       "1       74052   I  1.1625    0.8875  0.2750  15.507176        7.030676   \n",
       "2       74053   F  1.2875    0.9875  0.3250  14.571643        5.556502   \n",
       "3       74054   F  1.5500    0.9875  0.3875  28.377849       13.380964   \n",
       "4       74055   I  1.1125    0.8500  0.2625  11.765042        5.528153   \n",
       "...       ...  ..     ...       ...     ...        ...             ...   \n",
       "29994  104045   I  0.9000    0.6750  0.2250   5.641551        2.523105   \n",
       "29995  104046   F  1.2875    1.0000  0.3500  19.745427        9.071840   \n",
       "29996  104047   F  1.5750    1.1750  0.3875  32.105809       16.697855   \n",
       "29997  104048   F  1.4625    1.1250  0.3750  27.895908       11.453198   \n",
       "29998  104049   I  1.4375    1.1125  0.3875  23.246590       10.475140   \n",
       "\n",
       "       Viscera Weight  Shell Weight  \n",
       "0            1.729319      2.721552  \n",
       "1            3.246018      3.968930  \n",
       "2            3.883882      4.819415  \n",
       "3            6.548735      7.030676  \n",
       "4            2.466407      3.331066  \n",
       "...               ...           ...  \n",
       "29994        0.992232      1.700970  \n",
       "29995        3.557862      4.961163  \n",
       "29996        5.981744      8.136306  \n",
       "29997        5.584852      7.229122  \n",
       "29998        6.123492      7.937860  \n",
       "\n",
       "[29999 rows x 9 columns]"
      ]
     },
     "execution_count": 160,
     "metadata": {},
     "output_type": "execute_result"
    }
   ],
   "source": [
    "test"
   ]
  },
  {
   "cell_type": "code",
   "execution_count": 161,
   "metadata": {
    "execution": {
     "iopub.execute_input": "2023-06-21T06:18:14.740127Z",
     "iopub.status.busy": "2023-06-21T06:18:14.739669Z",
     "iopub.status.idle": "2023-06-21T06:18:14.769607Z",
     "shell.execute_reply": "2023-06-21T06:18:14.768338Z",
     "shell.execute_reply.started": "2023-06-21T06:18:14.740086Z"
    }
   },
   "outputs": [
    {
     "data": {
      "text/plain": [
       "id                0\n",
       "Sex               0\n",
       "Length            0\n",
       "Diameter          0\n",
       "Height            0\n",
       "Weight            0\n",
       "Shucked Weight    0\n",
       "Viscera Weight    0\n",
       "Shell Weight      0\n",
       "dtype: int64"
      ]
     },
     "execution_count": 161,
     "metadata": {},
     "output_type": "execute_result"
    }
   ],
   "source": [
    "test.isna().sum()"
   ]
  },
  {
   "cell_type": "code",
   "execution_count": 162,
   "metadata": {
    "execution": {
     "iopub.execute_input": "2023-06-21T06:18:14.771211Z",
     "iopub.status.busy": "2023-06-21T06:18:14.770883Z",
     "iopub.status.idle": "2023-06-21T06:18:14.787557Z",
     "shell.execute_reply": "2023-06-21T06:18:14.786714Z",
     "shell.execute_reply.started": "2023-06-21T06:18:14.771183Z"
    }
   },
   "outputs": [
    {
     "data": {
      "text/html": [
       "<div>\n",
       "<style scoped>\n",
       "    .dataframe tbody tr th:only-of-type {\n",
       "        vertical-align: middle;\n",
       "    }\n",
       "\n",
       "    .dataframe tbody tr th {\n",
       "        vertical-align: top;\n",
       "    }\n",
       "\n",
       "    .dataframe thead th {\n",
       "        text-align: right;\n",
       "    }\n",
       "</style>\n",
       "<table border=\"1\" class=\"dataframe\">\n",
       "  <thead>\n",
       "    <tr style=\"text-align: right;\">\n",
       "      <th></th>\n",
       "      <th>id</th>\n",
       "      <th>Age</th>\n",
       "    </tr>\n",
       "  </thead>\n",
       "  <tbody>\n",
       "    <tr>\n",
       "      <th>0</th>\n",
       "      <td>74051</td>\n",
       "      <td>10</td>\n",
       "    </tr>\n",
       "    <tr>\n",
       "      <th>1</th>\n",
       "      <td>74052</td>\n",
       "      <td>10</td>\n",
       "    </tr>\n",
       "    <tr>\n",
       "      <th>2</th>\n",
       "      <td>74053</td>\n",
       "      <td>10</td>\n",
       "    </tr>\n",
       "    <tr>\n",
       "      <th>3</th>\n",
       "      <td>74054</td>\n",
       "      <td>10</td>\n",
       "    </tr>\n",
       "    <tr>\n",
       "      <th>4</th>\n",
       "      <td>74055</td>\n",
       "      <td>10</td>\n",
       "    </tr>\n",
       "    <tr>\n",
       "      <th>...</th>\n",
       "      <td>...</td>\n",
       "      <td>...</td>\n",
       "    </tr>\n",
       "    <tr>\n",
       "      <th>29994</th>\n",
       "      <td>104045</td>\n",
       "      <td>10</td>\n",
       "    </tr>\n",
       "    <tr>\n",
       "      <th>29995</th>\n",
       "      <td>104046</td>\n",
       "      <td>10</td>\n",
       "    </tr>\n",
       "    <tr>\n",
       "      <th>29996</th>\n",
       "      <td>104047</td>\n",
       "      <td>10</td>\n",
       "    </tr>\n",
       "    <tr>\n",
       "      <th>29997</th>\n",
       "      <td>104048</td>\n",
       "      <td>10</td>\n",
       "    </tr>\n",
       "    <tr>\n",
       "      <th>29998</th>\n",
       "      <td>104049</td>\n",
       "      <td>10</td>\n",
       "    </tr>\n",
       "  </tbody>\n",
       "</table>\n",
       "<p>29999 rows × 2 columns</p>\n",
       "</div>"
      ],
      "text/plain": [
       "           id  Age\n",
       "0       74051   10\n",
       "1       74052   10\n",
       "2       74053   10\n",
       "3       74054   10\n",
       "4       74055   10\n",
       "...       ...  ...\n",
       "29994  104045   10\n",
       "29995  104046   10\n",
       "29996  104047   10\n",
       "29997  104048   10\n",
       "29998  104049   10\n",
       "\n",
       "[29999 rows x 2 columns]"
      ]
     },
     "execution_count": 162,
     "metadata": {},
     "output_type": "execute_result"
    }
   ],
   "source": [
    "submission"
   ]
  },
  {
   "cell_type": "markdown",
   "metadata": {},
   "source": [
    "Check to see if train and test are from the same distribution"
   ]
  },
  {
   "cell_type": "code",
   "execution_count": 163,
   "metadata": {
    "execution": {
     "iopub.execute_input": "2023-06-21T06:18:14.789394Z",
     "iopub.status.busy": "2023-06-21T06:18:14.789018Z",
     "iopub.status.idle": "2023-06-21T06:18:15.303719Z",
     "shell.execute_reply": "2023-06-21T06:18:15.302542Z",
     "shell.execute_reply.started": "2023-06-21T06:18:14.789358Z"
    }
   },
   "outputs": [
    {
     "name": "stdout",
     "output_type": "stream",
     "text": [
      "id is not drawn from the same distribution.\n",
      "['id']\n"
     ]
    }
   ],
   "source": [
    "from scipy import stats\n",
    "\n",
    "to_drop = []\n",
    "\n",
    "for col in test:\n",
    "    stat, pv = stats.ks_2samp(train[col], test[col])\n",
    "    if pv < 0.05:\n",
    "        print(col, 'is not drawn from the same distribution.')\n",
    "        to_drop.append(col)\n",
    "        \n",
    "print(to_drop)"
   ]
  },
  {
   "cell_type": "markdown",
   "metadata": {},
   "source": [
    "Drop id from train and test"
   ]
  },
  {
   "cell_type": "code",
   "execution_count": 164,
   "metadata": {
    "execution": {
     "iopub.execute_input": "2023-06-21T06:18:15.309793Z",
     "iopub.status.busy": "2023-06-21T06:18:15.309368Z",
     "iopub.status.idle": "2023-06-21T06:18:15.325956Z",
     "shell.execute_reply": "2023-06-21T06:18:15.324763Z",
     "shell.execute_reply.started": "2023-06-21T06:18:15.309751Z"
    }
   },
   "outputs": [],
   "source": [
    "train.drop('id', axis=1, inplace=True)\n",
    "test.drop('id', axis=1, inplace=True)"
   ]
  },
  {
   "cell_type": "markdown",
   "metadata": {},
   "source": [
    "Heatmap"
   ]
  },
  {
   "cell_type": "code",
   "execution_count": 165,
   "metadata": {
    "execution": {
     "iopub.execute_input": "2023-06-21T06:18:15.328444Z",
     "iopub.status.busy": "2023-06-21T06:18:15.327681Z",
     "iopub.status.idle": "2023-06-21T06:18:15.783389Z",
     "shell.execute_reply": "2023-06-21T06:18:15.782173Z",
     "shell.execute_reply.started": "2023-06-21T06:18:15.328403Z"
    }
   },
   "outputs": [
    {
     "data": {
      "text/plain": [
       "<Axes: >"
      ]
     },
     "execution_count": 165,
     "metadata": {},
     "output_type": "execute_result"
    },
    {
     "data": {
      "image/png": "[encoded data removed]",
      "text/plain": [
       "<Figure size 640x480 with 2 Axes>"
      ]
     },
     "metadata": {},
     "output_type": "display_data"
    }
   ],
   "source": [
    "corr = train.corr(numeric_only=True)\n",
    "sns.heatmap(corr)"
   ]
  },
  {
   "cell_type": "code",
   "execution_count": 166,
   "metadata": {
    "execution": {
     "iopub.execute_input": "2023-06-21T06:18:15.787193Z",
     "iopub.status.busy": "2023-06-21T06:18:15.786673Z",
     "iopub.status.idle": "2023-06-21T06:18:15.807063Z",
     "shell.execute_reply": "2023-06-21T06:18:15.805601Z",
     "shell.execute_reply.started": "2023-06-21T06:18:15.787146Z"
    }
   },
   "outputs": [
    {
     "data": {
      "text/html": [
       "<div>\n",
       "<style scoped>\n",
       "    .dataframe tbody tr th:only-of-type {\n",
       "        vertical-align: middle;\n",
       "    }\n",
       "\n",
       "    .dataframe tbody tr th {\n",
       "        vertical-align: top;\n",
       "    }\n",
       "\n",
       "    .dataframe thead th {\n",
       "        text-align: right;\n",
       "    }\n",
       "</style>\n",
       "<table border=\"1\" class=\"dataframe\">\n",
       "  <thead>\n",
       "    <tr style=\"text-align: right;\">\n",
       "      <th></th>\n",
       "      <th>Length</th>\n",
       "      <th>Diameter</th>\n",
       "      <th>Height</th>\n",
       "      <th>Weight</th>\n",
       "      <th>Shucked Weight</th>\n",
       "      <th>Viscera Weight</th>\n",
       "      <th>Shell Weight</th>\n",
       "      <th>Age</th>\n",
       "    </tr>\n",
       "  </thead>\n",
       "  <tbody>\n",
       "    <tr>\n",
       "      <th>Length</th>\n",
       "      <td>1.000000</td>\n",
       "      <td>0.989404</td>\n",
       "      <td>0.921098</td>\n",
       "      <td>0.935908</td>\n",
       "      <td>0.915015</td>\n",
       "      <td>0.918132</td>\n",
       "      <td>0.916706</td>\n",
       "      <td>0.614887</td>\n",
       "    </tr>\n",
       "    <tr>\n",
       "      <th>Diameter</th>\n",
       "      <td>0.989404</td>\n",
       "      <td>1.000000</td>\n",
       "      <td>0.924244</td>\n",
       "      <td>0.938127</td>\n",
       "      <td>0.913902</td>\n",
       "      <td>0.919002</td>\n",
       "      <td>0.922599</td>\n",
       "      <td>0.623272</td>\n",
       "    </tr>\n",
       "    <tr>\n",
       "      <th>Height</th>\n",
       "      <td>0.921098</td>\n",
       "      <td>0.924244</td>\n",
       "      <td>1.000000</td>\n",
       "      <td>0.903997</td>\n",
       "      <td>0.866091</td>\n",
       "      <td>0.885515</td>\n",
       "      <td>0.905409</td>\n",
       "      <td>0.641189</td>\n",
       "    </tr>\n",
       "    <tr>\n",
       "      <th>Weight</th>\n",
       "      <td>0.935908</td>\n",
       "      <td>0.938127</td>\n",
       "      <td>0.903997</td>\n",
       "      <td>1.000000</td>\n",
       "      <td>0.970913</td>\n",
       "      <td>0.970979</td>\n",
       "      <td>0.965438</td>\n",
       "      <td>0.603804</td>\n",
       "    </tr>\n",
       "    <tr>\n",
       "      <th>Shucked Weight</th>\n",
       "      <td>0.915015</td>\n",
       "      <td>0.913902</td>\n",
       "      <td>0.866091</td>\n",
       "      <td>0.970913</td>\n",
       "      <td>1.000000</td>\n",
       "      <td>0.942455</td>\n",
       "      <td>0.909841</td>\n",
       "      <td>0.504952</td>\n",
       "    </tr>\n",
       "    <tr>\n",
       "      <th>Viscera Weight</th>\n",
       "      <td>0.918132</td>\n",
       "      <td>0.919002</td>\n",
       "      <td>0.885515</td>\n",
       "      <td>0.970979</td>\n",
       "      <td>0.942455</td>\n",
       "      <td>1.000000</td>\n",
       "      <td>0.933966</td>\n",
       "      <td>0.579972</td>\n",
       "    </tr>\n",
       "    <tr>\n",
       "      <th>Shell Weight</th>\n",
       "      <td>0.916706</td>\n",
       "      <td>0.922599</td>\n",
       "      <td>0.905409</td>\n",
       "      <td>0.965438</td>\n",
       "      <td>0.909841</td>\n",
       "      <td>0.933966</td>\n",
       "      <td>1.000000</td>\n",
       "      <td>0.666228</td>\n",
       "    </tr>\n",
       "    <tr>\n",
       "      <th>Age</th>\n",
       "      <td>0.614887</td>\n",
       "      <td>0.623272</td>\n",
       "      <td>0.641189</td>\n",
       "      <td>0.603804</td>\n",
       "      <td>0.504952</td>\n",
       "      <td>0.579972</td>\n",
       "      <td>0.666228</td>\n",
       "      <td>1.000000</td>\n",
       "    </tr>\n",
       "  </tbody>\n",
       "</table>\n",
       "</div>"
      ],
      "text/plain": [
       "                  Length  Diameter    Height    Weight  Shucked Weight   \n",
       "Length          1.000000  0.989404  0.921098  0.935908        0.915015  \\\n",
       "Diameter        0.989404  1.000000  0.924244  0.938127        0.913902   \n",
       "Height          0.921098  0.924244  1.000000  0.903997        0.866091   \n",
       "Weight          0.935908  0.938127  0.903997  1.000000        0.970913   \n",
       "Shucked Weight  0.915015  0.913902  0.866091  0.970913        1.000000   \n",
       "Viscera Weight  0.918132  0.919002  0.885515  0.970979        0.942455   \n",
       "Shell Weight    0.916706  0.922599  0.905409  0.965438        0.909841   \n",
       "Age             0.614887  0.623272  0.641189  0.603804        0.504952   \n",
       "\n",
       "                Viscera Weight  Shell Weight       Age  \n",
       "Length                0.918132      0.916706  0.614887  \n",
       "Diameter              0.919002      0.922599  0.623272  \n",
       "Height                0.885515      0.905409  0.641189  \n",
       "Weight                0.970979      0.965438  0.603804  \n",
       "Shucked Weight        0.942455      0.909841  0.504952  \n",
       "Viscera Weight        1.000000      0.933966  0.579972  \n",
       "Shell Weight          0.933966      1.000000  0.666228  \n",
       "Age                   0.579972      0.666228  1.000000  "
      ]
     },
     "execution_count": 166,
     "metadata": {},
     "output_type": "execute_result"
    }
   ],
   "source": [
    "corr"
   ]
  },
  {
   "cell_type": "code",
   "execution_count": 167,
   "metadata": {
    "execution": {
     "iopub.execute_input": "2023-06-21T06:18:15.809441Z",
     "iopub.status.busy": "2023-06-21T06:18:15.808697Z",
     "iopub.status.idle": "2023-06-21T06:18:15.847333Z",
     "shell.execute_reply": "2023-06-21T06:18:15.845952Z",
     "shell.execute_reply.started": "2023-06-21T06:18:15.809408Z"
    }
   },
   "outputs": [
    {
     "name": "stdout",
     "output_type": "stream",
     "text": [
      "['Diameter', 'Shucked Weight', 'Viscera Weight', 'Shell Weight']\n"
     ]
    }
   ],
   "source": [
    "# Create correlation matrix\n",
    "corr_matrix =train.corr(numeric_only=True).abs()\n",
    "\n",
    "# Select upper triangle of correlation matrix\n",
    "upper = corr_matrix.where(np.triu(np.ones(corr_matrix.shape), k=1).astype(bool))\n",
    "\n",
    "# Find index of feature columns with correlation greater than 0.95\n",
    "to_drop = [column for column in upper.columns if any(upper[column] > 0.95)]\n",
    "print(to_drop)\n",
    "\n",
    "train.drop(to_drop, axis=1, inplace=True)\n",
    "test.drop(to_drop, axis=1, inplace=True)"
   ]
  },
  {
   "cell_type": "code",
   "execution_count": 168,
   "metadata": {
    "execution": {
     "iopub.execute_input": "2023-06-21T06:18:15.849847Z",
     "iopub.status.busy": "2023-06-21T06:18:15.848900Z",
     "iopub.status.idle": "2023-06-21T06:18:15.896883Z",
     "shell.execute_reply": "2023-06-21T06:18:15.895789Z",
     "shell.execute_reply.started": "2023-06-21T06:18:15.849805Z"
    }
   },
   "outputs": [
    {
     "name": "stdout",
     "output_type": "stream",
     "text": [
      "<class 'pandas.core.frame.DataFrame'>\n",
      "RangeIndex: 49999 entries, 0 to 49998\n",
      "Data columns (total 5 columns):\n",
      " #   Column  Non-Null Count  Dtype  \n",
      "---  ------  --------------  -----  \n",
      " 0   Sex     49999 non-null  object \n",
      " 1   Length  49999 non-null  float64\n",
      " 2   Height  49999 non-null  float64\n",
      " 3   Weight  49999 non-null  float64\n",
      " 4   Age     49999 non-null  int64  \n",
      "dtypes: float64(3), int64(1), object(1)\n",
      "memory usage: 1.9+ MB\n"
     ]
    }
   ],
   "source": [
    "train.info()"
   ]
  },
  {
   "cell_type": "markdown",
   "metadata": {},
   "source": [
    "Analyse train"
   ]
  },
  {
   "cell_type": "code",
   "execution_count": 169,
   "metadata": {
    "execution": {
     "iopub.execute_input": "2023-06-21T06:18:15.899336Z",
     "iopub.status.busy": "2023-06-21T06:18:15.898300Z",
     "iopub.status.idle": "2023-06-21T06:18:16.344939Z",
     "shell.execute_reply": "2023-06-21T06:18:16.343928Z",
     "shell.execute_reply.started": "2023-06-21T06:18:15.899295Z"
    }
   },
   "outputs": [
    {
     "data": {
      "text/plain": [
       "<Axes: xlabel='Sex', ylabel='Age'>"
      ]
     },
     "execution_count": 169,
     "metadata": {},
     "output_type": "execute_result"
    },
    {
     "data": {
      "image/png": "[encoded data removed]",
      "text/plain": [
       "<Figure size 640x480 with 1 Axes>"
      ]
     },
     "metadata": {},
     "output_type": "display_data"
    }
   ],
   "source": [
    "sns.boxplot(data=train, x=\"Sex\", y='Age')"
   ]
  },
  {
   "cell_type": "code",
   "execution_count": 170,
   "metadata": {
    "execution": {
     "iopub.execute_input": "2023-06-21T06:18:16.347516Z",
     "iopub.status.busy": "2023-06-21T06:18:16.346430Z",
     "iopub.status.idle": "2023-06-21T06:18:16.971119Z",
     "shell.execute_reply": "2023-06-21T06:18:16.969971Z",
     "shell.execute_reply.started": "2023-06-21T06:18:16.347473Z"
    }
   },
   "outputs": [
    {
     "data": {
      "text/plain": [
       "<Axes: xlabel='Length', ylabel='Age'>"
      ]
     },
     "execution_count": 170,
     "metadata": {},
     "output_type": "execute_result"
    },
    {
     "data": {
      "image/png": "[encoded data removed]",
      "text/plain": [
       "<Figure size 640x480 with 1 Axes>"
      ]
     },
     "metadata": {},
     "output_type": "display_data"
    }
   ],
   "source": [
    "sns.scatterplot(data=train, x=\"Length\", y='Age')"
   ]
  },
  {
   "cell_type": "code",
   "execution_count": 171,
   "metadata": {
    "execution": {
     "iopub.execute_input": "2023-06-21T06:18:16.973873Z",
     "iopub.status.busy": "2023-06-21T06:18:16.972785Z",
     "iopub.status.idle": "2023-06-21T06:18:17.542329Z",
     "shell.execute_reply": "2023-06-21T06:18:17.540948Z",
     "shell.execute_reply.started": "2023-06-21T06:18:16.973828Z"
    }
   },
   "outputs": [
    {
     "data": {
      "text/plain": [
       "<Axes: xlabel='Height', ylabel='Age'>"
      ]
     },
     "execution_count": 171,
     "metadata": {},
     "output_type": "execute_result"
    },
    {
     "data": {
      "image/png": "[encoded data removed]",
      "text/plain": [
       "<Figure size 640x480 with 1 Axes>"
      ]
     },
     "metadata": {},
     "output_type": "display_data"
    }
   ],
   "source": [
    "sns.scatterplot(data=train, x=\"Height\", y='Age')"
   ]
  },
  {
   "cell_type": "code",
   "execution_count": 172,
   "metadata": {
    "execution": {
     "iopub.execute_input": "2023-06-21T06:18:17.546083Z",
     "iopub.status.busy": "2023-06-21T06:18:17.544769Z",
     "iopub.status.idle": "2023-06-21T06:18:18.206899Z",
     "shell.execute_reply": "2023-06-21T06:18:18.205627Z",
     "shell.execute_reply.started": "2023-06-21T06:18:17.546035Z"
    }
   },
   "outputs": [
    {
     "data": {
      "text/plain": [
       "<Axes: xlabel='Weight', ylabel='Age'>"
      ]
     },
     "execution_count": 172,
     "metadata": {},
     "output_type": "execute_result"
    },
    {
     "data": {
      "image/png": "[encoded data removed]",
      "text/plain": [
       "<Figure size 640x480 with 1 Axes>"
      ]
     },
     "metadata": {},
     "output_type": "display_data"
    }
   ],
   "source": [
    "sns.scatterplot(data=train, x=\"Weight\", y='Age')"
   ]
  },
  {
   "cell_type": "markdown",
   "metadata": {},
   "source": [
    "Ordinal encode columns"
   ]
  },
  {
   "cell_type": "code",
   "execution_count": 173,
   "metadata": {
    "execution": {
     "iopub.execute_input": "2023-06-21T06:18:18.209483Z",
     "iopub.status.busy": "2023-06-21T06:18:18.208862Z",
     "iopub.status.idle": "2023-06-21T06:18:18.395255Z",
     "shell.execute_reply": "2023-06-21T06:18:18.394129Z",
     "shell.execute_reply.started": "2023-06-21T06:18:18.209439Z"
    }
   },
   "outputs": [
    {
     "data": {
      "text/html": [
       "<div>\n",
       "<style scoped>\n",
       "    .dataframe tbody tr th:only-of-type {\n",
       "        vertical-align: middle;\n",
       "    }\n",
       "\n",
       "    .dataframe tbody tr th {\n",
       "        vertical-align: top;\n",
       "    }\n",
       "\n",
       "    .dataframe thead th {\n",
       "        text-align: right;\n",
       "    }\n",
       "</style>\n",
       "<table border=\"1\" class=\"dataframe\">\n",
       "  <thead>\n",
       "    <tr style=\"text-align: right;\">\n",
       "      <th></th>\n",
       "      <th>Sex</th>\n",
       "      <th>Length</th>\n",
       "      <th>Height</th>\n",
       "      <th>Weight</th>\n",
       "      <th>Age</th>\n",
       "    </tr>\n",
       "  </thead>\n",
       "  <tbody>\n",
       "    <tr>\n",
       "      <th>0</th>\n",
       "      <td>1.0</td>\n",
       "      <td>1.5250</td>\n",
       "      <td>0.3750</td>\n",
       "      <td>28.973189</td>\n",
       "      <td>9</td>\n",
       "    </tr>\n",
       "    <tr>\n",
       "      <th>1</th>\n",
       "      <td>1.0</td>\n",
       "      <td>1.1000</td>\n",
       "      <td>0.2750</td>\n",
       "      <td>10.418441</td>\n",
       "      <td>8</td>\n",
       "    </tr>\n",
       "    <tr>\n",
       "      <th>2</th>\n",
       "      <td>2.0</td>\n",
       "      <td>1.3875</td>\n",
       "      <td>0.3750</td>\n",
       "      <td>24.777463</td>\n",
       "      <td>9</td>\n",
       "    </tr>\n",
       "    <tr>\n",
       "      <th>3</th>\n",
       "      <td>0.0</td>\n",
       "      <td>1.7000</td>\n",
       "      <td>0.5000</td>\n",
       "      <td>50.660556</td>\n",
       "      <td>11</td>\n",
       "    </tr>\n",
       "    <tr>\n",
       "      <th>4</th>\n",
       "      <td>1.0</td>\n",
       "      <td>1.2500</td>\n",
       "      <td>0.3375</td>\n",
       "      <td>23.289114</td>\n",
       "      <td>8</td>\n",
       "    </tr>\n",
       "    <tr>\n",
       "      <th>...</th>\n",
       "      <td>...</td>\n",
       "      <td>...</td>\n",
       "      <td>...</td>\n",
       "      <td>...</td>\n",
       "      <td>...</td>\n",
       "    </tr>\n",
       "    <tr>\n",
       "      <th>49994</th>\n",
       "      <td>1.0</td>\n",
       "      <td>0.9250</td>\n",
       "      <td>0.2375</td>\n",
       "      <td>5.542327</td>\n",
       "      <td>6</td>\n",
       "    </tr>\n",
       "    <tr>\n",
       "      <th>49995</th>\n",
       "      <td>2.0</td>\n",
       "      <td>1.5750</td>\n",
       "      <td>0.3875</td>\n",
       "      <td>28.462898</td>\n",
       "      <td>10</td>\n",
       "    </tr>\n",
       "    <tr>\n",
       "      <th>49996</th>\n",
       "      <td>2.0</td>\n",
       "      <td>1.4750</td>\n",
       "      <td>0.3875</td>\n",
       "      <td>29.738626</td>\n",
       "      <td>15</td>\n",
       "    </tr>\n",
       "    <tr>\n",
       "      <th>49997</th>\n",
       "      <td>0.0</td>\n",
       "      <td>1.2875</td>\n",
       "      <td>0.3125</td>\n",
       "      <td>21.970862</td>\n",
       "      <td>8</td>\n",
       "    </tr>\n",
       "    <tr>\n",
       "      <th>49998</th>\n",
       "      <td>1.0</td>\n",
       "      <td>1.2250</td>\n",
       "      <td>0.3125</td>\n",
       "      <td>15.393778</td>\n",
       "      <td>8</td>\n",
       "    </tr>\n",
       "  </tbody>\n",
       "</table>\n",
       "<p>49999 rows × 5 columns</p>\n",
       "</div>"
      ],
      "text/plain": [
       "       Sex  Length  Height     Weight  Age\n",
       "0      1.0  1.5250  0.3750  28.973189    9\n",
       "1      1.0  1.1000  0.2750  10.418441    8\n",
       "2      2.0  1.3875  0.3750  24.777463    9\n",
       "3      0.0  1.7000  0.5000  50.660556   11\n",
       "4      1.0  1.2500  0.3375  23.289114    8\n",
       "...    ...     ...     ...        ...  ...\n",
       "49994  1.0  0.9250  0.2375   5.542327    6\n",
       "49995  2.0  1.5750  0.3875  28.462898   10\n",
       "49996  2.0  1.4750  0.3875  29.738626   15\n",
       "49997  0.0  1.2875  0.3125  21.970862    8\n",
       "49998  1.0  1.2250  0.3125  15.393778    8\n",
       "\n",
       "[49999 rows x 5 columns]"
      ]
     },
     "execution_count": 173,
     "metadata": {},
     "output_type": "execute_result"
    }
   ],
   "source": [
    "from sklearn.preprocessing import OrdinalEncoder\n",
    "enc = OrdinalEncoder()\n",
    "\n",
    "for col in train:\n",
    "    if train[col].dtype == 'object':\n",
    "        train[col] = enc.fit_transform(train[col].values.reshape(-1,1))\n",
    "        test[col] = enc.transform(test[col].values.reshape(-1,1))\n",
    "        \n",
    "train"
   ]
  },
  {
   "cell_type": "markdown",
   "metadata": {},
   "source": [
    "Analyse target"
   ]
  },
  {
   "cell_type": "code",
   "execution_count": 174,
   "metadata": {
    "execution": {
     "iopub.execute_input": "2023-06-21T06:18:18.397878Z",
     "iopub.status.busy": "2023-06-21T06:18:18.396799Z",
     "iopub.status.idle": "2023-06-21T06:18:19.717265Z",
     "shell.execute_reply": "2023-06-21T06:18:19.716128Z",
     "shell.execute_reply.started": "2023-06-21T06:18:18.397837Z"
    }
   },
   "outputs": [
    {
     "data": {
      "text/plain": [
       "<seaborn.axisgrid.FacetGrid at 0x28c7c6ad060>"
      ]
     },
     "execution_count": 174,
     "metadata": {},
     "output_type": "execute_result"
    },
    {
     "data": {
      "image/png": "[encoded data removed]",
      "text/plain": [
       "<Figure size 500x500 with 1 Axes>"
      ]
     },
     "metadata": {},
     "output_type": "display_data"
    }
   ],
   "source": [
    "target = train.pop('Age')\n",
    "\n",
    "sns.displot(target, kde=True)"
   ]
  },
  {
   "cell_type": "markdown",
   "metadata": {},
   "source": [
    "Define dependent and independent variables"
   ]
  },
  {
   "cell_type": "code",
   "execution_count": 175,
   "metadata": {
    "execution": {
     "iopub.execute_input": "2023-06-21T06:18:19.719912Z",
     "iopub.status.busy": "2023-06-21T06:18:19.718904Z",
     "iopub.status.idle": "2023-06-21T06:18:19.725541Z",
     "shell.execute_reply": "2023-06-21T06:18:19.724265Z",
     "shell.execute_reply.started": "2023-06-21T06:18:19.719869Z"
    }
   },
   "outputs": [],
   "source": [
    "y = target\n",
    "X = train\n",
    "X_test = test"
   ]
  },
  {
   "cell_type": "markdown",
   "metadata": {},
   "source": [
    "Split X and y into training and validation sets"
   ]
  },
  {
   "cell_type": "code",
   "execution_count": 176,
   "metadata": {
    "execution": {
     "iopub.execute_input": "2023-06-21T06:18:19.727927Z",
     "iopub.status.busy": "2023-06-21T06:18:19.727268Z",
     "iopub.status.idle": "2023-06-21T06:18:19.852937Z",
     "shell.execute_reply": "2023-06-21T06:18:19.851749Z",
     "shell.execute_reply.started": "2023-06-21T06:18:19.727883Z"
    }
   },
   "outputs": [
    {
     "data": {
      "text/plain": [
       "((44999, 4), (5000, 4), (44999,), (5000,), (29999, 4))"
      ]
     },
     "execution_count": 176,
     "metadata": {},
     "output_type": "execute_result"
    }
   ],
   "source": [
    "from sklearn.model_selection import train_test_split\n",
    "\n",
    "X_train, X_val, y_train, y_val = train_test_split(X, y, test_size=0.1, random_state=42)\n",
    "X_train.shape, X_val.shape, y_train.shape, y_val.shape, X_test.shape"
   ]
  },
  {
   "cell_type": "markdown",
   "metadata": {},
   "source": [
    "Tensorflow"
   ]
  },
  {
   "cell_type": "code",
   "execution_count": 177,
   "metadata": {
    "execution": {
     "iopub.execute_input": "2023-06-21T06:18:19.855034Z",
     "iopub.status.busy": "2023-06-21T06:18:19.854569Z",
     "iopub.status.idle": "2023-06-21T06:18:28.479856Z",
     "shell.execute_reply": "2023-06-21T06:18:28.478712Z",
     "shell.execute_reply.started": "2023-06-21T06:18:19.854994Z"
    }
   },
   "outputs": [
    {
     "name": "stdout",
     "output_type": "stream",
     "text": [
      "2.12.0\n"
     ]
    }
   ],
   "source": [
    "import tensorflow as tf \n",
    "import keras\n",
    "from keras.models import Sequential\n",
    "from keras.layers import Dense, Input, Concatenate, Normalization, Dropout\n",
    "from keras.callbacks import ModelCheckpoint, EarlyStopping\n",
    "print(tf.__version__)"
   ]
  },
  {
   "cell_type": "markdown",
   "metadata": {},
   "source": [
    "Standardise data"
   ]
  },
  {
   "cell_type": "code",
   "execution_count": 178,
   "metadata": {
    "execution": {
     "iopub.execute_input": "2023-06-21T06:18:28.482088Z",
     "iopub.status.busy": "2023-06-21T06:18:28.481331Z",
     "iopub.status.idle": "2023-06-21T06:18:30.851683Z",
     "shell.execute_reply": "2023-06-21T06:18:30.850460Z",
     "shell.execute_reply.started": "2023-06-21T06:18:28.482056Z"
    }
   },
   "outputs": [
    {
     "name": "stdout",
     "output_type": "stream",
     "text": [
      "[[ 1.0561785   1.3166502   0.34780365 23.358961  ]]\n"
     ]
    }
   ],
   "source": [
    "normalizer = Normalization(axis=-1)\n",
    "normalizer.adapt(np.array(X_train))\n",
    "print(normalizer.mean.numpy())"
   ]
  },
  {
   "cell_type": "code",
   "execution_count": 179,
   "metadata": {
    "execution": {
     "iopub.execute_input": "2023-06-21T06:18:30.853880Z",
     "iopub.status.busy": "2023-06-21T06:18:30.853181Z",
     "iopub.status.idle": "2023-06-21T06:18:30.873864Z",
     "shell.execute_reply": "2023-06-21T06:18:30.872820Z",
     "shell.execute_reply.started": "2023-06-21T06:18:30.853801Z"
    }
   },
   "outputs": [
    {
     "name": "stdout",
     "output_type": "stream",
     "text": [
      "First example: [[ 2.    1.48  0.41 29.1 ]]\n",
      "\n",
      "Normalized: [[1.15 0.55 0.7  0.45]]\n"
     ]
    }
   ],
   "source": [
    "first = np.array(X_train[:1])\n",
    "\n",
    "with np.printoptions(precision=2, suppress=True):\n",
    "  print('First example:', first)\n",
    "  print()\n",
    "  print('Normalized:', normalizer(first).numpy())"
   ]
  },
  {
   "cell_type": "markdown",
   "metadata": {},
   "source": [
    "Define neural network"
   ]
  },
  {
   "cell_type": "code",
   "execution_count": 180,
   "metadata": {
    "execution": {
     "iopub.execute_input": "2023-06-21T06:18:30.875854Z",
     "iopub.status.busy": "2023-06-21T06:18:30.875419Z",
     "iopub.status.idle": "2023-06-21T06:18:30.982437Z",
     "shell.execute_reply": "2023-06-21T06:18:30.981284Z",
     "shell.execute_reply.started": "2023-06-21T06:18:30.875823Z"
    }
   },
   "outputs": [
    {
     "name": "stdout",
     "output_type": "stream",
     "text": [
      "Model: \"crabs\"\n",
      "_________________________________________________________________\n",
      " Layer (type)                Output Shape              Param #   \n",
      "=================================================================\n",
      " normalization_4 (Normalizat  (None, 4)                9         \n",
      " ion)                                                            \n",
      "                                                                 \n",
      " hidden1 (Dense)             (None, 10)                50        \n",
      "                                                                 \n",
      " hidden2 (Dense)             (None, 10)                110       \n",
      "                                                                 \n",
      " output (Dense)              (None, 1)                 11        \n",
      "                                                                 \n",
      "=================================================================\n",
      "Total params: 180\n",
      "Trainable params: 171\n",
      "Non-trainable params: 9\n",
      "_________________________________________________________________\n"
     ]
    }
   ],
   "source": [
    "model = Sequential(name='crabs')\n",
    "model.add(normalizer)\n",
    "model.add(Dense(10, input_dim=X_train.shape[1], activation= \"relu\", name = 'hidden1'))\n",
    "model.add(Dense(10, activation= \"relu\", name = 'hidden2'))\n",
    "model.add(Dense(1, activation='linear', name='output'))\n",
    "model.summary() "
   ]
  },
  {
   "cell_type": "code",
   "execution_count": 181,
   "metadata": {
    "execution": {
     "iopub.execute_input": "2023-06-21T06:18:30.984664Z",
     "iopub.status.busy": "2023-06-21T06:18:30.984307Z",
     "iopub.status.idle": "2023-06-21T06:22:17.743689Z",
     "shell.execute_reply": "2023-06-21T06:22:17.742440Z",
     "shell.execute_reply.started": "2023-06-21T06:18:30.984626Z"
    }
   },
   "outputs": [
    {
     "name": "stdout",
     "output_type": "stream",
     "text": [
      "Epoch 1/100\n",
      "1407/1407 [==============================] - 5s 3ms/step - loss: 25.5031 - mse: 25.5031 - val_loss: 5.6655 - val_mse: 5.6655\n",
      "Epoch 2/100\n",
      "1407/1407 [==============================] - 5s 3ms/step - loss: 5.8393 - mse: 5.8393 - val_loss: 5.4753 - val_mse: 5.4753\n",
      "Epoch 3/100\n",
      "1407/1407 [==============================] - 4s 3ms/step - loss: 5.7692 - mse: 5.7692 - val_loss: 5.4959 - val_mse: 5.4959\n",
      "Epoch 4/100\n",
      "1407/1407 [==============================] - 4s 3ms/step - loss: 5.7442 - mse: 5.7442 - val_loss: 5.4517 - val_mse: 5.4517\n",
      "Epoch 5/100\n",
      "1407/1407 [==============================] - 4s 2ms/step - loss: 5.7245 - mse: 5.7245 - val_loss: 5.4719 - val_mse: 5.4719\n",
      "Epoch 6/100\n",
      "1407/1407 [==============================] - 4s 3ms/step - loss: 5.7152 - mse: 5.7152 - val_loss: 5.4541 - val_mse: 5.4541\n",
      "Epoch 7/100\n",
      "1407/1407 [==============================] - 4s 3ms/step - loss: 5.7016 - mse: 5.7016 - val_loss: 5.4208 - val_mse: 5.4208\n",
      "Epoch 8/100\n",
      "1407/1407 [==============================] - 4s 3ms/step - loss: 5.6940 - mse: 5.6940 - val_loss: 5.4510 - val_mse: 5.4510\n",
      "Epoch 9/100\n",
      "1407/1407 [==============================] - 4s 3ms/step - loss: 5.6783 - mse: 5.6783 - val_loss: 5.4092 - val_mse: 5.4092\n",
      "Epoch 10/100\n",
      "1407/1407 [==============================] - 4s 3ms/step - loss: 5.6792 - mse: 5.6792 - val_loss: 5.4542 - val_mse: 5.4542\n",
      "Epoch 11/100\n",
      "1407/1407 [==============================] - 4s 3ms/step - loss: 5.6700 - mse: 5.6700 - val_loss: 5.4042 - val_mse: 5.4042\n",
      "Epoch 12/100\n",
      "1407/1407 [==============================] - 6s 4ms/step - loss: 5.6660 - mse: 5.6660 - val_loss: 5.4067 - val_mse: 5.4067\n",
      "Epoch 13/100\n",
      "1407/1407 [==============================] - 6s 4ms/step - loss: 5.6572 - mse: 5.6572 - val_loss: 5.4076 - val_mse: 5.4076\n",
      "Epoch 14/100\n",
      "1407/1407 [==============================] - 6s 4ms/step - loss: 5.6543 - mse: 5.6543 - val_loss: 5.4523 - val_mse: 5.4523\n",
      "Epoch 15/100\n",
      "1407/1407 [==============================] - 5s 3ms/step - loss: 5.6519 - mse: 5.6519 - val_loss: 5.4269 - val_mse: 5.4269\n",
      "Epoch 16/100\n",
      "1407/1407 [==============================] - 4s 3ms/step - loss: 5.6419 - mse: 5.6419 - val_loss: 5.4116 - val_mse: 5.4116\n",
      "Epoch 17/100\n",
      "1407/1407 [==============================] - 4s 3ms/step - loss: 5.6396 - mse: 5.6396 - val_loss: 5.4376 - val_mse: 5.4376\n",
      "Epoch 18/100\n",
      "1407/1407 [==============================] - 4s 3ms/step - loss: 5.6439 - mse: 5.6439 - val_loss: 5.4119 - val_mse: 5.4119\n",
      "Epoch 19/100\n",
      "1407/1407 [==============================] - 4s 3ms/step - loss: 5.6396 - mse: 5.6396 - val_loss: 5.3970 - val_mse: 5.3970\n",
      "Epoch 20/100\n",
      "1407/1407 [==============================] - 4s 3ms/step - loss: 5.6380 - mse: 5.6380 - val_loss: 5.3897 - val_mse: 5.3897\n",
      "Epoch 21/100\n",
      "1407/1407 [==============================] - 4s 3ms/step - loss: 5.6287 - mse: 5.6287 - val_loss: 5.3921 - val_mse: 5.3921\n",
      "Epoch 22/100\n",
      "1407/1407 [==============================] - 4s 3ms/step - loss: 5.6312 - mse: 5.6312 - val_loss: 5.4049 - val_mse: 5.4049\n",
      "Epoch 23/100\n",
      "1407/1407 [==============================] - 4s 3ms/step - loss: 5.6276 - mse: 5.6276 - val_loss: 5.3971 - val_mse: 5.3971\n",
      "Epoch 24/100\n",
      "1407/1407 [==============================] - 4s 3ms/step - loss: 5.6269 - mse: 5.6269 - val_loss: 5.3835 - val_mse: 5.3835\n",
      "Epoch 25/100\n",
      "1407/1407 [==============================] - 4s 3ms/step - loss: 5.6196 - mse: 5.6196 - val_loss: 5.3965 - val_mse: 5.3965\n",
      "Epoch 26/100\n",
      "1407/1407 [==============================] - 4s 3ms/step - loss: 5.6129 - mse: 5.6129 - val_loss: 5.4390 - val_mse: 5.4390\n",
      "Epoch 27/100\n",
      "1407/1407 [==============================] - 4s 3ms/step - loss: 5.6135 - mse: 5.6135 - val_loss: 5.3904 - val_mse: 5.3904\n",
      "Epoch 28/100\n",
      "1407/1407 [==============================] - 4s 3ms/step - loss: 5.6152 - mse: 5.6152 - val_loss: 5.4062 - val_mse: 5.4062\n",
      "Epoch 29/100\n",
      "1407/1407 [==============================] - 4s 3ms/step - loss: 5.6108 - mse: 5.6108 - val_loss: 5.4099 - val_mse: 5.4099\n",
      "Epoch 30/100\n",
      "1407/1407 [==============================] - 4s 3ms/step - loss: 5.6047 - mse: 5.6047 - val_loss: 5.3762 - val_mse: 5.3762\n",
      "Epoch 31/100\n",
      "1407/1407 [==============================] - 4s 3ms/step - loss: 5.6013 - mse: 5.6013 - val_loss: 5.6279 - val_mse: 5.6279\n",
      "Epoch 32/100\n",
      "1407/1407 [==============================] - 4s 3ms/step - loss: 5.5979 - mse: 5.5979 - val_loss: 5.4338 - val_mse: 5.4338\n",
      "Epoch 33/100\n",
      "1407/1407 [==============================] - 3s 2ms/step - loss: 5.5951 - mse: 5.5951 - val_loss: 5.4079 - val_mse: 5.4079\n",
      "Epoch 34/100\n",
      "1407/1407 [==============================] - 4s 3ms/step - loss: 5.5964 - mse: 5.5964 - val_loss: 5.3975 - val_mse: 5.3975\n",
      "Epoch 35/100\n",
      "1407/1407 [==============================] - 4s 3ms/step - loss: 5.5960 - mse: 5.5960 - val_loss: 5.3796 - val_mse: 5.3796\n",
      "Epoch 36/100\n",
      "1407/1407 [==============================] - 4s 3ms/step - loss: 5.5871 - mse: 5.5871 - val_loss: 5.4356 - val_mse: 5.4356\n",
      "Epoch 37/100\n",
      "1407/1407 [==============================] - 4s 3ms/step - loss: 5.5925 - mse: 5.5925 - val_loss: 5.3653 - val_mse: 5.3653\n",
      "Epoch 38/100\n",
      "1407/1407 [==============================] - 4s 2ms/step - loss: 5.5904 - mse: 5.5904 - val_loss: 5.4781 - val_mse: 5.4781\n",
      "Epoch 39/100\n",
      "1407/1407 [==============================] - 3s 2ms/step - loss: 5.5918 - mse: 5.5918 - val_loss: 5.4235 - val_mse: 5.4235\n",
      "Epoch 40/100\n",
      "1407/1407 [==============================] - 4s 3ms/step - loss: 5.5887 - mse: 5.5887 - val_loss: 5.4095 - val_mse: 5.4095\n",
      "Epoch 41/100\n",
      "1407/1407 [==============================] - 4s 3ms/step - loss: 5.5898 - mse: 5.5898 - val_loss: 5.3536 - val_mse: 5.3536\n",
      "Epoch 42/100\n",
      "1407/1407 [==============================] - 3s 2ms/step - loss: 5.5794 - mse: 5.5794 - val_loss: 5.4694 - val_mse: 5.4694\n",
      "Epoch 43/100\n",
      "1407/1407 [==============================] - 4s 3ms/step - loss: 5.5829 - mse: 5.5829 - val_loss: 5.3700 - val_mse: 5.3700\n",
      "Epoch 44/100\n",
      "1407/1407 [==============================] - 4s 3ms/step - loss: 5.5804 - mse: 5.5804 - val_loss: 5.3718 - val_mse: 5.3718\n",
      "Epoch 45/100\n",
      "1407/1407 [==============================] - 4s 3ms/step - loss: 5.5817 - mse: 5.5817 - val_loss: 5.3611 - val_mse: 5.3611\n",
      "Epoch 46/100\n",
      "1407/1407 [==============================] - 4s 3ms/step - loss: 5.5771 - mse: 5.5771 - val_loss: 5.3907 - val_mse: 5.3907\n",
      "Epoch 47/100\n",
      "1407/1407 [==============================] - 4s 3ms/step - loss: 5.5755 - mse: 5.5755 - val_loss: 5.3857 - val_mse: 5.3857\n",
      "Epoch 48/100\n",
      "1407/1407 [==============================] - 4s 3ms/step - loss: 5.5764 - mse: 5.5764 - val_loss: 5.3601 - val_mse: 5.3601\n",
      "Epoch 49/100\n",
      "1407/1407 [==============================] - 4s 3ms/step - loss: 5.5753 - mse: 5.5753 - val_loss: 5.3507 - val_mse: 5.3507\n",
      "Epoch 50/100\n",
      "1407/1407 [==============================] - 4s 3ms/step - loss: 5.5782 - mse: 5.5782 - val_loss: 5.4564 - val_mse: 5.4564\n",
      "Epoch 51/100\n",
      "1407/1407 [==============================] - 4s 3ms/step - loss: 5.5782 - mse: 5.5782 - val_loss: 5.3773 - val_mse: 5.3773\n",
      "Epoch 52/100\n",
      "1407/1407 [==============================] - 4s 3ms/step - loss: 5.5750 - mse: 5.5750 - val_loss: 5.3543 - val_mse: 5.3543\n",
      "Epoch 53/100\n",
      "1407/1407 [==============================] - 4s 3ms/step - loss: 5.5714 - mse: 5.5714 - val_loss: 5.3646 - val_mse: 5.3646\n",
      "Epoch 54/100\n",
      "1407/1407 [==============================] - 4s 3ms/step - loss: 5.5727 - mse: 5.5727 - val_loss: 5.3940 - val_mse: 5.3940\n",
      "Epoch 55/100\n",
      "1407/1407 [==============================] - 4s 3ms/step - loss: 5.5694 - mse: 5.5694 - val_loss: 5.3747 - val_mse: 5.3747\n",
      "Epoch 56/100\n",
      "1407/1407 [==============================] - 3s 2ms/step - loss: 5.5697 - mse: 5.5697 - val_loss: 5.3790 - val_mse: 5.3790\n",
      "Epoch 57/100\n",
      "1407/1407 [==============================] - 4s 2ms/step - loss: 5.5634 - mse: 5.5634 - val_loss: 5.3450 - val_mse: 5.3450\n",
      "Epoch 58/100\n",
      "1407/1407 [==============================] - 4s 3ms/step - loss: 5.5674 - mse: 5.5674 - val_loss: 5.3650 - val_mse: 5.3650\n",
      "Epoch 59/100\n",
      "1407/1407 [==============================] - 4s 3ms/step - loss: 5.5661 - mse: 5.5661 - val_loss: 5.3599 - val_mse: 5.3599\n",
      "Epoch 60/100\n",
      "1407/1407 [==============================] - 3s 2ms/step - loss: 5.5649 - mse: 5.5649 - val_loss: 5.4256 - val_mse: 5.4256\n",
      "Epoch 61/100\n"
     ]
    },
    {
     "name": "stdout",
     "output_type": "stream",
     "text": [
      "1407/1407 [==============================] - 4s 3ms/step - loss: 5.5669 - mse: 5.5669 - val_loss: 5.5329 - val_mse: 5.5329\n",
      "Epoch 62/100\n",
      "1407/1407 [==============================] - 4s 3ms/step - loss: 5.5671 - mse: 5.5671 - val_loss: 5.3494 - val_mse: 5.3494\n",
      "Epoch 63/100\n",
      "1407/1407 [==============================] - 4s 3ms/step - loss: 5.5641 - mse: 5.5641 - val_loss: 5.3730 - val_mse: 5.3730\n",
      "Epoch 64/100\n",
      "1407/1407 [==============================] - 4s 3ms/step - loss: 5.5593 - mse: 5.5593 - val_loss: 5.3706 - val_mse: 5.3706\n",
      "Epoch 65/100\n",
      "1407/1407 [==============================] - 4s 3ms/step - loss: 5.5614 - mse: 5.5614 - val_loss: 5.3693 - val_mse: 5.3693\n",
      "Epoch 66/100\n",
      "1407/1407 [==============================] - 4s 3ms/step - loss: 5.5618 - mse: 5.5618 - val_loss: 5.3966 - val_mse: 5.3966\n",
      "Epoch 67/100\n",
      "1407/1407 [==============================] - 3s 2ms/step - loss: 5.5571 - mse: 5.5571 - val_loss: 5.4226 - val_mse: 5.4226\n",
      "Epoch 68/100\n",
      "1407/1407 [==============================] - 4s 3ms/step - loss: 5.5552 - mse: 5.5552 - val_loss: 5.4324 - val_mse: 5.4324\n",
      "Epoch 69/100\n",
      "1407/1407 [==============================] - 4s 3ms/step - loss: 5.5590 - mse: 5.5590 - val_loss: 5.3753 - val_mse: 5.3753\n",
      "Epoch 70/100\n",
      "1407/1407 [==============================] - 4s 3ms/step - loss: 5.5549 - mse: 5.5549 - val_loss: 5.4575 - val_mse: 5.4575\n",
      "Epoch 71/100\n",
      "1407/1407 [==============================] - 4s 3ms/step - loss: 5.5562 - mse: 5.5562 - val_loss: 5.3984 - val_mse: 5.3984\n",
      "Epoch 72/100\n",
      "1407/1407 [==============================] - 4s 3ms/step - loss: 5.5569 - mse: 5.5569 - val_loss: 5.3547 - val_mse: 5.3547\n",
      "Epoch 73/100\n",
      "1407/1407 [==============================] - 4s 3ms/step - loss: 5.5571 - mse: 5.5571 - val_loss: 5.3691 - val_mse: 5.3691\n",
      "Epoch 74/100\n",
      "1407/1407 [==============================] - 3s 2ms/step - loss: 5.5572 - mse: 5.5572 - val_loss: 5.3352 - val_mse: 5.3352\n",
      "Epoch 75/100\n",
      "1407/1407 [==============================] - 4s 3ms/step - loss: 5.5526 - mse: 5.5526 - val_loss: 5.4156 - val_mse: 5.4156\n",
      "Epoch 76/100\n",
      "1407/1407 [==============================] - 4s 3ms/step - loss: 5.5504 - mse: 5.5504 - val_loss: 5.3747 - val_mse: 5.3747\n",
      "Epoch 77/100\n",
      "1407/1407 [==============================] - 3s 2ms/step - loss: 5.5532 - mse: 5.5532 - val_loss: 5.3454 - val_mse: 5.3454\n",
      "Epoch 78/100\n",
      "1407/1407 [==============================] - 3s 2ms/step - loss: 5.5528 - mse: 5.5528 - val_loss: 5.3913 - val_mse: 5.3913\n",
      "Epoch 79/100\n",
      "1407/1407 [==============================] - 4s 3ms/step - loss: 5.5529 - mse: 5.5529 - val_loss: 5.3298 - val_mse: 5.3298\n",
      "Epoch 80/100\n",
      "1407/1407 [==============================] - 3s 2ms/step - loss: 5.5533 - mse: 5.5533 - val_loss: 5.3450 - val_mse: 5.3450\n",
      "Epoch 81/100\n",
      "1407/1407 [==============================] - 5s 3ms/step - loss: 5.5520 - mse: 5.5520 - val_loss: 5.3537 - val_mse: 5.3537\n",
      "Epoch 82/100\n",
      "1407/1407 [==============================] - 3s 2ms/step - loss: 5.5490 - mse: 5.5490 - val_loss: 5.3416 - val_mse: 5.3416\n",
      "Epoch 83/100\n",
      "1407/1407 [==============================] - 4s 3ms/step - loss: 5.5498 - mse: 5.5498 - val_loss: 5.3572 - val_mse: 5.3572\n",
      "Epoch 84/100\n",
      "1407/1407 [==============================] - 4s 3ms/step - loss: 5.5512 - mse: 5.5512 - val_loss: 5.3648 - val_mse: 5.3648\n",
      "Epoch 85/100\n",
      "1407/1407 [==============================] - 4s 3ms/step - loss: 5.5481 - mse: 5.5481 - val_loss: 5.3466 - val_mse: 5.3466\n",
      "Epoch 86/100\n",
      "1407/1407 [==============================] - 4s 3ms/step - loss: 5.5526 - mse: 5.5526 - val_loss: 5.3426 - val_mse: 5.3426\n",
      "Epoch 87/100\n",
      "1407/1407 [==============================] - 3s 2ms/step - loss: 5.5489 - mse: 5.5489 - val_loss: 5.3592 - val_mse: 5.3592\n",
      "Epoch 88/100\n",
      "1407/1407 [==============================] - 4s 3ms/step - loss: 5.5489 - mse: 5.5489 - val_loss: 5.4810 - val_mse: 5.4810\n",
      "Epoch 89/100\n",
      "1407/1407 [==============================] - 3s 2ms/step - loss: 5.5516 - mse: 5.5516 - val_loss: 5.3445 - val_mse: 5.3445\n",
      "Epoch 90/100\n",
      "1407/1407 [==============================] - 4s 3ms/step - loss: 5.5496 - mse: 5.5496 - val_loss: 5.3500 - val_mse: 5.3500\n",
      "Epoch 91/100\n",
      "1407/1407 [==============================] - 4s 3ms/step - loss: 5.5514 - mse: 5.5514 - val_loss: 5.3284 - val_mse: 5.3284\n",
      "Epoch 92/100\n",
      "1407/1407 [==============================] - 6s 4ms/step - loss: 5.5498 - mse: 5.5498 - val_loss: 5.3731 - val_mse: 5.3731\n",
      "Epoch 93/100\n",
      "1407/1407 [==============================] - 4s 3ms/step - loss: 5.5523 - mse: 5.5523 - val_loss: 5.3465 - val_mse: 5.3465\n",
      "Epoch 94/100\n",
      "1407/1407 [==============================] - 5s 3ms/step - loss: 5.5510 - mse: 5.5510 - val_loss: 5.3609 - val_mse: 5.3609\n",
      "Epoch 95/100\n",
      "1407/1407 [==============================] - 4s 3ms/step - loss: 5.5482 - mse: 5.5482 - val_loss: 5.3401 - val_mse: 5.3401\n",
      "Epoch 96/100\n",
      "1407/1407 [==============================] - 4s 3ms/step - loss: 5.5496 - mse: 5.5496 - val_loss: 5.3576 - val_mse: 5.3576\n",
      "Epoch 97/100\n",
      "1407/1407 [==============================] - 3s 2ms/step - loss: 5.5464 - mse: 5.5464 - val_loss: 5.3409 - val_mse: 5.3409\n",
      "Epoch 98/100\n",
      "1407/1407 [==============================] - 3s 2ms/step - loss: 5.5525 - mse: 5.5525 - val_loss: 5.3546 - val_mse: 5.3546\n",
      "Epoch 99/100\n",
      "1407/1407 [==============================] - 4s 3ms/step - loss: 5.5537 - mse: 5.5537 - val_loss: 5.3444 - val_mse: 5.3444\n",
      "Epoch 100/100\n",
      "1407/1407 [==============================] - 4s 3ms/step - loss: 5.5456 - mse: 5.5456 - val_loss: 5.3945 - val_mse: 5.3945\n",
      "157/157 [==============================] - 0s 2ms/step - loss: 5.3945 - mse: 5.3945\n"
     ]
    }
   ],
   "source": [
    "model.compile(loss= \"mean_squared_error\" , optimizer=\"RMSprop\", metrics=[\"mse\"])\n",
    "\n",
    "early_stopping = EarlyStopping(monitor='val_loss', mode='min', patience=25, verbose=1)\n",
    "mc = ModelCheckpoint ('best_model.h5', monitor='val_loss', mode='min', save_best_only=True)\n",
    "\n",
    "history = model.fit(X_train, y_train, epochs=100, validation_data=(X_val, y_val), batch_size=32,callbacks=[early_stopping, mc])\n",
    "val_loss, val_acc = model.evaluate(X_val, y_val)"
   ]
  },
  {
   "cell_type": "code",
   "execution_count": 182,
   "metadata": {
    "execution": {
     "iopub.execute_input": "2023-06-21T06:22:17.746623Z",
     "iopub.status.busy": "2023-06-21T06:22:17.745509Z",
     "iopub.status.idle": "2023-06-21T06:22:18.209495Z",
     "shell.execute_reply": "2023-06-21T06:22:18.208366Z",
     "shell.execute_reply.started": "2023-06-21T06:22:17.746579Z"
    }
   },
   "outputs": [
    {
     "data": {
      "text/plain": [
       "<function matplotlib.pyplot.show(close=None, block=None)>"
      ]
     },
     "execution_count": 182,
     "metadata": {},
     "output_type": "execute_result"
    },
    {
     "data": {
      "image/png": "[encoded data removed]",
      "text/plain": [
       "<Figure size 800x500 with 1 Axes>"
      ]
     },
     "metadata": {},
     "output_type": "display_data"
    }
   ],
   "source": [
    "pd.DataFrame(history.history).plot(figsize=(8,5))\n",
    "plt.grid(True)\n",
    "plt.gca().set_ylim(0,20)\n",
    "plt.show"
   ]
  },
  {
   "cell_type": "code",
   "execution_count": 183,
   "metadata": {
    "execution": {
     "iopub.execute_input": "2023-06-21T06:22:18.212494Z",
     "iopub.status.busy": "2023-06-21T06:22:18.211590Z",
     "iopub.status.idle": "2023-06-21T06:22:18.777784Z",
     "shell.execute_reply": "2023-06-21T06:22:18.776606Z",
     "shell.execute_reply.started": "2023-06-21T06:22:18.212453Z"
    }
   },
   "outputs": [
    {
     "name": "stdout",
     "output_type": "stream",
     "text": [
      "157/157 [==============================] - 0s 1ms/step\n"
     ]
    },
    {
     "data": {
      "text/plain": [
       "array([10.080578, 12.221031, 12.625415, ...,  8.217085, 12.110329,\n",
       "       10.671584], dtype=float32)"
      ]
     },
     "execution_count": 183,
     "metadata": {},
     "output_type": "execute_result"
    }
   ],
   "source": [
    "y_pred = model.predict(X_val)\n",
    "y_pred = y_pred.flatten()\n",
    "y_pred"
   ]
  },
  {
   "cell_type": "code",
   "execution_count": 184,
   "metadata": {
    "execution": {
     "iopub.execute_input": "2023-06-21T06:22:18.779572Z",
     "iopub.status.busy": "2023-06-21T06:22:18.779265Z",
     "iopub.status.idle": "2023-06-21T06:22:18.788216Z",
     "shell.execute_reply": "2023-06-21T06:22:18.786990Z",
     "shell.execute_reply.started": "2023-06-21T06:22:18.779546Z"
    }
   },
   "outputs": [
    {
     "data": {
      "text/plain": [
       "2.322608488786576"
      ]
     },
     "execution_count": 184,
     "metadata": {},
     "output_type": "execute_result"
    }
   ],
   "source": [
    "from sklearn.metrics import mean_squared_error\n",
    "\n",
    "rms = np.sqrt(mean_squared_error(y_val, y_pred))\n",
    "rms"
   ]
  },
  {
   "cell_type": "code",
   "execution_count": 185,
   "metadata": {
    "execution": {
     "iopub.execute_input": "2023-06-21T06:22:18.795813Z",
     "iopub.status.busy": "2023-06-21T06:22:18.795310Z",
     "iopub.status.idle": "2023-06-21T06:22:19.086994Z",
     "shell.execute_reply": "2023-06-21T06:22:19.086132Z",
     "shell.execute_reply.started": "2023-06-21T06:22:18.795779Z"
    }
   },
   "outputs": [
    {
     "data": {
      "image/png": "[encoded data removed]",
      "text/plain": [
       "<Figure size 640x480 with 1 Axes>"
      ]
     },
     "metadata": {},
     "output_type": "display_data"
    }
   ],
   "source": [
    "fig, ax = plt.subplots()\n",
    "ax.scatter(y_val, y_pred, edgecolors=(0, 0, 0))\n",
    "ax.plot([y.min(), y.max()], [y.min(), y.max()], 'k--', lw=4)\n",
    "ax.set_xlabel('Measured')\n",
    "ax.set_ylabel('Predicted')\n",
    "plt.show()"
   ]
  },
  {
   "cell_type": "code",
   "execution_count": 186,
   "metadata": {
    "execution": {
     "iopub.execute_input": "2023-06-21T06:22:19.088717Z",
     "iopub.status.busy": "2023-06-21T06:22:19.088198Z",
     "iopub.status.idle": "2023-06-21T06:22:19.101253Z",
     "shell.execute_reply": "2023-06-21T06:22:19.100425Z",
     "shell.execute_reply.started": "2023-06-21T06:22:19.088689Z"
    }
   },
   "outputs": [
    {
     "data": {
      "text/html": [
       "<div>\n",
       "<style scoped>\n",
       "    .dataframe tbody tr th:only-of-type {\n",
       "        vertical-align: middle;\n",
       "    }\n",
       "\n",
       "    .dataframe tbody tr th {\n",
       "        vertical-align: top;\n",
       "    }\n",
       "\n",
       "    .dataframe thead th {\n",
       "        text-align: right;\n",
       "    }\n",
       "</style>\n",
       "<table border=\"1\" class=\"dataframe\">\n",
       "  <thead>\n",
       "    <tr style=\"text-align: right;\">\n",
       "      <th></th>\n",
       "      <th>actual_value</th>\n",
       "      <th>predicted_value</th>\n",
       "    </tr>\n",
       "  </thead>\n",
       "  <tbody>\n",
       "    <tr>\n",
       "      <th>0</th>\n",
       "      <td>9</td>\n",
       "      <td>10.080578</td>\n",
       "    </tr>\n",
       "    <tr>\n",
       "      <th>1</th>\n",
       "      <td>12</td>\n",
       "      <td>12.221031</td>\n",
       "    </tr>\n",
       "    <tr>\n",
       "      <th>2</th>\n",
       "      <td>12</td>\n",
       "      <td>12.625415</td>\n",
       "    </tr>\n",
       "    <tr>\n",
       "      <th>3</th>\n",
       "      <td>19</td>\n",
       "      <td>12.737334</td>\n",
       "    </tr>\n",
       "    <tr>\n",
       "      <th>4</th>\n",
       "      <td>10</td>\n",
       "      <td>7.470902</td>\n",
       "    </tr>\n",
       "    <tr>\n",
       "      <th>...</th>\n",
       "      <td>...</td>\n",
       "      <td>...</td>\n",
       "    </tr>\n",
       "    <tr>\n",
       "      <th>4995</th>\n",
       "      <td>9</td>\n",
       "      <td>8.274030</td>\n",
       "    </tr>\n",
       "    <tr>\n",
       "      <th>4996</th>\n",
       "      <td>11</td>\n",
       "      <td>11.874467</td>\n",
       "    </tr>\n",
       "    <tr>\n",
       "      <th>4997</th>\n",
       "      <td>7</td>\n",
       "      <td>8.217085</td>\n",
       "    </tr>\n",
       "    <tr>\n",
       "      <th>4998</th>\n",
       "      <td>13</td>\n",
       "      <td>12.110329</td>\n",
       "    </tr>\n",
       "    <tr>\n",
       "      <th>4999</th>\n",
       "      <td>9</td>\n",
       "      <td>10.671584</td>\n",
       "    </tr>\n",
       "  </tbody>\n",
       "</table>\n",
       "<p>5000 rows × 2 columns</p>\n",
       "</div>"
      ],
      "text/plain": [
       "      actual_value  predicted_value\n",
       "0                9        10.080578\n",
       "1               12        12.221031\n",
       "2               12        12.625415\n",
       "3               19        12.737334\n",
       "4               10         7.470902\n",
       "...            ...              ...\n",
       "4995             9         8.274030\n",
       "4996            11        11.874467\n",
       "4997             7         8.217085\n",
       "4998            13        12.110329\n",
       "4999             9        10.671584\n",
       "\n",
       "[5000 rows x 2 columns]"
      ]
     },
     "execution_count": 186,
     "metadata": {},
     "output_type": "execute_result"
    }
   ],
   "source": [
    "df_val=pd.DataFrame({'actual_value': y_val.ravel(), 'predicted_value':y_pred.ravel()})\n",
    "df_val"
   ]
  },
  {
   "cell_type": "markdown",
   "metadata": {},
   "source": [
    "Predict on test set"
   ]
  },
  {
   "cell_type": "code",
   "execution_count": 187,
   "metadata": {
    "execution": {
     "iopub.execute_input": "2023-06-21T06:22:19.102998Z",
     "iopub.status.busy": "2023-06-21T06:22:19.102498Z",
     "iopub.status.idle": "2023-06-21T06:22:21.695130Z",
     "shell.execute_reply": "2023-06-21T06:22:21.693653Z",
     "shell.execute_reply.started": "2023-06-21T06:22:19.102970Z"
    }
   },
   "outputs": [
    {
     "name": "stdout",
     "output_type": "stream",
     "text": [
      "938/938 [==============================] - 2s 2ms/step\n"
     ]
    },
    {
     "data": {
      "text/plain": [
       "array([ 7.580843,  8.195663,  9.897971, ..., 11.065746, 10.954437,\n",
       "       10.339864], dtype=float32)"
      ]
     },
     "execution_count": 187,
     "metadata": {},
     "output_type": "execute_result"
    }
   ],
   "source": [
    "predictions = model.predict(X_test)\n",
    "predictions = predictions.flatten()\n",
    "predictions"
   ]
  },
  {
   "cell_type": "code",
   "execution_count": 188,
   "metadata": {
    "execution": {
     "iopub.execute_input": "2023-06-21T06:22:21.696681Z",
     "iopub.status.busy": "2023-06-21T06:22:21.696361Z",
     "iopub.status.idle": "2023-06-21T06:22:22.724032Z",
     "shell.execute_reply": "2023-06-21T06:22:22.722891Z",
     "shell.execute_reply.started": "2023-06-21T06:22:21.696654Z"
    }
   },
   "outputs": [
    {
     "data": {
      "text/plain": [
       "<seaborn.axisgrid.FacetGrid at 0x28c7e32b430>"
      ]
     },
     "execution_count": 188,
     "metadata": {},
     "output_type": "execute_result"
    },
    {
     "data": {
      "image/png": "[encoded data removed]",
      "text/plain": [
       "<Figure size 500x500 with 1 Axes>"
      ]
     },
     "metadata": {},
     "output_type": "display_data"
    }
   ],
   "source": [
    "sns.displot(predictions,kde=True)"
   ]
  },
  {
   "cell_type": "markdown",
   "metadata": {},
   "source": [
    "Prepare submission"
   ]
  },
  {
   "cell_type": "code",
   "execution_count": 189,
   "metadata": {
    "execution": {
     "iopub.execute_input": "2023-06-21T06:22:22.725654Z",
     "iopub.status.busy": "2023-06-21T06:22:22.725323Z",
     "iopub.status.idle": "2023-06-21T06:22:22.933315Z",
     "shell.execute_reply": "2023-06-21T06:22:22.932098Z",
     "shell.execute_reply.started": "2023-06-21T06:22:22.725625Z"
    }
   },
   "outputs": [
    {
     "data": {
      "text/html": [
       "<div>\n",
       "<style scoped>\n",
       "    .dataframe tbody tr th:only-of-type {\n",
       "        vertical-align: middle;\n",
       "    }\n",
       "\n",
       "    .dataframe tbody tr th {\n",
       "        vertical-align: top;\n",
       "    }\n",
       "\n",
       "    .dataframe thead th {\n",
       "        text-align: right;\n",
       "    }\n",
       "</style>\n",
       "<table border=\"1\" class=\"dataframe\">\n",
       "  <thead>\n",
       "    <tr style=\"text-align: right;\">\n",
       "      <th></th>\n",
       "      <th>id</th>\n",
       "      <th>Age</th>\n",
       "    </tr>\n",
       "  </thead>\n",
       "  <tbody>\n",
       "    <tr>\n",
       "      <th>0</th>\n",
       "      <td>74051</td>\n",
       "      <td>7.580843</td>\n",
       "    </tr>\n",
       "    <tr>\n",
       "      <th>1</th>\n",
       "      <td>74052</td>\n",
       "      <td>8.195663</td>\n",
       "    </tr>\n",
       "    <tr>\n",
       "      <th>2</th>\n",
       "      <td>74053</td>\n",
       "      <td>9.897971</td>\n",
       "    </tr>\n",
       "    <tr>\n",
       "      <th>3</th>\n",
       "      <td>74054</td>\n",
       "      <td>10.796727</td>\n",
       "    </tr>\n",
       "    <tr>\n",
       "      <th>4</th>\n",
       "      <td>74055</td>\n",
       "      <td>7.735340</td>\n",
       "    </tr>\n",
       "    <tr>\n",
       "      <th>...</th>\n",
       "      <td>...</td>\n",
       "      <td>...</td>\n",
       "    </tr>\n",
       "    <tr>\n",
       "      <th>29994</th>\n",
       "      <td>104045</td>\n",
       "      <td>6.956956</td>\n",
       "    </tr>\n",
       "    <tr>\n",
       "      <th>29995</th>\n",
       "      <td>104046</td>\n",
       "      <td>10.719027</td>\n",
       "    </tr>\n",
       "    <tr>\n",
       "      <th>29996</th>\n",
       "      <td>104047</td>\n",
       "      <td>11.065746</td>\n",
       "    </tr>\n",
       "    <tr>\n",
       "      <th>29997</th>\n",
       "      <td>104048</td>\n",
       "      <td>10.954437</td>\n",
       "    </tr>\n",
       "    <tr>\n",
       "      <th>29998</th>\n",
       "      <td>104049</td>\n",
       "      <td>10.339864</td>\n",
       "    </tr>\n",
       "  </tbody>\n",
       "</table>\n",
       "<p>29999 rows × 2 columns</p>\n",
       "</div>"
      ],
      "text/plain": [
       "           id        Age\n",
       "0       74051   7.580843\n",
       "1       74052   8.195663\n",
       "2       74053   9.897971\n",
       "3       74054  10.796727\n",
       "4       74055   7.735340\n",
       "...       ...        ...\n",
       "29994  104045   6.956956\n",
       "29995  104046  10.719027\n",
       "29996  104047  11.065746\n",
       "29997  104048  10.954437\n",
       "29998  104049  10.339864\n",
       "\n",
       "[29999 rows x 2 columns]"
      ]
     },
     "execution_count": 189,
     "metadata": {},
     "output_type": "execute_result"
    }
   ],
   "source": [
    "submission['Age'] = predictions\n",
    "submission.to_csv('submission.csv', index=False)\n",
    "submission = pd.read_csv('submission.csv')\n",
    "submission"
   ]
  },
  {
   "cell_type": "code",
   "execution_count": null,
   "metadata": {},
   "outputs": [],
   "source": []
  }
 ],
 "metadata": {
  "kernelspec": {
   "display_name": "Python 3 (ipykernel)",
   "language": "python",
   "name": "python3"
  },
  "language_info": {
   "codemirror_mode": {
    "name": "ipython",
    "version": 3
   },
   "file_extension": ".py",
   "mimetype": "text/x-python",
   "name": "python",
   "nbconvert_exporter": "python",
   "pygments_lexer": "ipython3",
   "version": "3.10.2"
  }
 },
 "nbformat": 4,
 "nbformat_minor": 4
}
